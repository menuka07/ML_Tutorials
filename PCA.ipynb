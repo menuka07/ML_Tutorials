{
 "cells": [
  {
   "cell_type": "markdown",
   "metadata": {},
   "source": [
    "https://towardsdatascience.com/a-one-stop-shop-for-principal-component-analysis-5582fb7e0a9c\n",
    "\n",
    "http://sebastianraschka.com/Articles/2015_pca_in_3_steps.html\n",
    "\n",
    "\n",
    "https://onlinecourses.science.psu.edu/stat505/lesson/11\n",
    "\n",
    "https://scikit-learn.org/stable/modules/generated/sklearn.decomposition.PCA.html"
   ]
  },
  {
   "cell_type": "markdown",
   "metadata": {},
   "source": [
    "## PCA Vs. LDA\n",
    "\n",
    "Both Linear Discriminant Analysis (LDA) and PCA are linear transformation methods. PCA yields the directions (principal components) that maximize the variance of the data, whereas LDA also aims to find the directions that maximize the separation (or discrimination) between different classes, which can be useful in pattern classification problem (PCA “ignores” class labels). \n",
    "##### In other words, PCA projects the entire dataset onto a different feature (sub)space, and LDA tries to determine a suitable feature (sub)space in order to distinguish between patterns that belong to different classes."
   ]
  },
  {
   "cell_type": "markdown",
   "metadata": {},
   "source": [
    "### A Summary of the PCA Approach\n",
    "\n",
    "1. Standardize the data.\n",
    "2. Obtain the Eigenvectors and Eigenvalues from the covariance matrix or correlation matrix, or perform Singular Value Decomposition.\n",
    "3. Sort eigenvalues in descending order and choose the k eigenvectors that correspond to the k largest eigenvalues where k is the number of dimensions of the new feature subspace (k≤d).\n",
    "4. Construct the projection matrix W from the selected k eigenvectors.\n",
    "5. Transform the original dataset X via W to obtain a k-dimensional feature subspace Y."
   ]
  },
  {
   "cell_type": "markdown",
   "metadata": {},
   "source": [
    "### Preparing the Iris Dataset\n",
    "\n",
    "\n",
    "\n",
    "About Iris\n",
    "\n",
    "For the following tutorial, we will be working with the famous “Iris” dataset that has been deposited on the UCI machine learning repository \n",
    "(https://archive.ics.uci.edu/ml/datasets/Iris).\n",
    "\n",
    "The iris dataset contains measurements for 150 iris flowers from three different species.\n",
    "\n",
    "The three classes in the Iris dataset are:\n",
    "\n",
    "Iris-setosa (n=50)\n",
    "\n",
    "Iris-versicolor (n=50)\n",
    "\n",
    "Iris-virginica (n=50)\n",
    "\n",
    "And the four features of in Iris dataset are:\n",
    "\n",
    "sepal length in cm\n",
    "sepal width in cm\n",
    "petal length in cm\n",
    "petal width in cm"
   ]
  },
  {
   "cell_type": "code",
   "execution_count": 60,
   "metadata": {},
   "outputs": [
    {
     "data": {
      "text/html": [
       "<div>\n",
       "<style scoped>\n",
       "    .dataframe tbody tr th:only-of-type {\n",
       "        vertical-align: middle;\n",
       "    }\n",
       "\n",
       "    .dataframe tbody tr th {\n",
       "        vertical-align: top;\n",
       "    }\n",
       "\n",
       "    .dataframe thead th {\n",
       "        text-align: right;\n",
       "    }\n",
       "</style>\n",
       "<table border=\"1\" class=\"dataframe\">\n",
       "  <thead>\n",
       "    <tr style=\"text-align: right;\">\n",
       "      <th></th>\n",
       "      <th>sepal_len</th>\n",
       "      <th>sepal_wid</th>\n",
       "      <th>petal_len</th>\n",
       "      <th>petal_wid</th>\n",
       "      <th>class</th>\n",
       "    </tr>\n",
       "  </thead>\n",
       "  <tbody>\n",
       "    <tr>\n",
       "      <th>145</th>\n",
       "      <td>6.7</td>\n",
       "      <td>3.0</td>\n",
       "      <td>5.2</td>\n",
       "      <td>2.3</td>\n",
       "      <td>Iris-virginica</td>\n",
       "    </tr>\n",
       "    <tr>\n",
       "      <th>146</th>\n",
       "      <td>6.3</td>\n",
       "      <td>2.5</td>\n",
       "      <td>5.0</td>\n",
       "      <td>1.9</td>\n",
       "      <td>Iris-virginica</td>\n",
       "    </tr>\n",
       "    <tr>\n",
       "      <th>147</th>\n",
       "      <td>6.5</td>\n",
       "      <td>3.0</td>\n",
       "      <td>5.2</td>\n",
       "      <td>2.0</td>\n",
       "      <td>Iris-virginica</td>\n",
       "    </tr>\n",
       "    <tr>\n",
       "      <th>148</th>\n",
       "      <td>6.2</td>\n",
       "      <td>3.4</td>\n",
       "      <td>5.4</td>\n",
       "      <td>2.3</td>\n",
       "      <td>Iris-virginica</td>\n",
       "    </tr>\n",
       "    <tr>\n",
       "      <th>149</th>\n",
       "      <td>5.9</td>\n",
       "      <td>3.0</td>\n",
       "      <td>5.1</td>\n",
       "      <td>1.8</td>\n",
       "      <td>Iris-virginica</td>\n",
       "    </tr>\n",
       "  </tbody>\n",
       "</table>\n",
       "</div>"
      ],
      "text/plain": [
       "     sepal_len  sepal_wid  petal_len  petal_wid           class\n",
       "145        6.7        3.0        5.2        2.3  Iris-virginica\n",
       "146        6.3        2.5        5.0        1.9  Iris-virginica\n",
       "147        6.5        3.0        5.2        2.0  Iris-virginica\n",
       "148        6.2        3.4        5.4        2.3  Iris-virginica\n",
       "149        5.9        3.0        5.1        1.8  Iris-virginica"
      ]
     },
     "execution_count": 60,
     "metadata": {},
     "output_type": "execute_result"
    }
   ],
   "source": [
    "# Read data\n",
    "\n",
    "import pandas as pd\n",
    "data = pd.read_csv('https://archive.ics.uci.edu/ml/machine-learning-databases/iris/iris.data', header=None)\n",
    "data.columns=['sepal_len', 'sepal_wid', 'petal_len', 'petal_wid', 'class']\n",
    "data.tail()\n"
   ]
  },
  {
   "cell_type": "code",
   "execution_count": 61,
   "metadata": {},
   "outputs": [],
   "source": [
    "## split data\n",
    "X=data.iloc[:,0:4]\n",
    "y = data.iloc[:,4]"
   ]
  },
  {
   "cell_type": "code",
   "execution_count": 62,
   "metadata": {},
   "outputs": [],
   "source": [
    "## store data as matrix\n",
    "X=X.values\n",
    "y=y.values"
   ]
  },
  {
   "cell_type": "code",
   "execution_count": 63,
   "metadata": {},
   "outputs": [
    {
     "data": {
      "image/png": "[encoded data removed]",
      "text/plain": [
       "<Figure size 1008x576 with 4 Axes>"
      ]
     },
     "metadata": {},
     "output_type": "display_data"
    }
   ],
   "source": [
    "## Distribution of features for three classes\n",
    "\n",
    "import matplotlib.pyplot as plt\n",
    "import numpy as np\n",
    "import math\n",
    "\n",
    "feature_dict = {0: 'sepal length [cm]',\n",
    "                1: 'sepal width [cm]',\n",
    "                2: 'petal length [cm]',\n",
    "                3: 'petal width [cm]'}\n",
    "\n",
    "with plt.style.context('seaborn-whitegrid'):\n",
    "    plt.figure(figsize=(14, 8))\n",
    "    for cnt in range(4):\n",
    "        plt.subplot(2, 2, cnt+1)\n",
    "        for lab in ('Iris-setosa', 'Iris-versicolor', 'Iris-virginica'):\n",
    "            plt.hist(X[y==lab, cnt],\n",
    "                     label=lab,\n",
    "                     bins=10,\n",
    "                     alpha=0.3,)\n",
    "        plt.xlabel(feature_dict[cnt])\n",
    "        plt.legend(loc='upper right', fancybox=True, fontsize=14)\n",
    "\n",
    "    plt.tight_layout()\n",
    "    plt.show()"
   ]
  },
  {
   "cell_type": "code",
   "execution_count": 64,
   "metadata": {},
   "outputs": [],
   "source": [
    "## Standardization\n",
    "\n",
    "from sklearn.preprocessing import StandardScaler\n",
    "standardX = StandardScaler().fit_transform(X)\n"
   ]
  },
  {
   "cell_type": "markdown",
   "metadata": {},
   "source": [
    "## 1 - Eigendecomposition \n",
    "\n",
    "The eigenvectors and eigenvalues of a covariance (or correlation) matrix represent the “core” of a PCA: The eigenvectors (principal components) determine the directions of the new feature space, and the eigenvalues determine their magnitude. In other words, the eigenvalues explain the variance of the data along the new feature axes."
   ]
  },
  {
   "cell_type": "code",
   "execution_count": 65,
   "metadata": {},
   "outputs": [
    {
     "data": {
      "text/plain": [
       "array([[ 1.00671141, -0.11010327,  0.87760486,  0.82344326],\n",
       "       [-0.11010327,  1.00671141, -0.42333835, -0.358937  ],\n",
       "       [ 0.87760486, -0.42333835,  1.00671141,  0.96921855],\n",
       "       [ 0.82344326, -0.358937  ,  0.96921855,  1.00671141]])"
      ]
     },
     "execution_count": 65,
     "metadata": {},
     "output_type": "execute_result"
    }
   ],
   "source": [
    "# Covariance matrix calculation\n",
    "# Transpose(X-xmean)*(X-xmean)/(n-1)\n",
    "import numpy as np\n",
    "\n",
    "xmean = np.mean(standardX,axis=0)\n",
    "covariancematrix= ((standardX-xmean).T.dot(standardX-xmean))/(standardX.shape[0]-1)\n",
    "covariancematrix\n"
   ]
  },
  {
   "cell_type": "code",
   "execution_count": 66,
   "metadata": {},
   "outputs": [
    {
     "data": {
      "text/plain": [
       "array([[ 1.00671141, -0.11010327,  0.87760486,  0.82344326],\n",
       "       [-0.11010327,  1.00671141, -0.42333835, -0.358937  ],\n",
       "       [ 0.87760486, -0.42333835,  1.00671141,  0.96921855],\n",
       "       [ 0.82344326, -0.358937  ,  0.96921855,  1.00671141]])"
      ]
     },
     "execution_count": 66,
     "metadata": {},
     "output_type": "execute_result"
    }
   ],
   "source": [
    "# or inbuilt function for covariance matrix\n",
    "np.cov(standardX.T)"
   ]
  },
  {
   "cell_type": "code",
   "execution_count": 67,
   "metadata": {},
   "outputs": [
    {
     "data": {
      "text/plain": [
       "array([[ 0.52237162, -0.37231836, -0.72101681,  0.26199559],\n",
       "       [-0.26335492, -0.92555649,  0.24203288, -0.12413481],\n",
       "       [ 0.58125401, -0.02109478,  0.14089226, -0.80115427],\n",
       "       [ 0.56561105, -0.06541577,  0.6338014 ,  0.52354627]])"
      ]
     },
     "execution_count": 67,
     "metadata": {},
     "output_type": "execute_result"
    }
   ],
   "source": [
    "#eigenvalue and eigenvector of covariance matrix\n",
    "eigenvals, eigenvecs = np.linalg.eig(covariancematrix)\n",
    "eigenvecs"
   ]
  },
  {
   "cell_type": "code",
   "execution_count": 68,
   "metadata": {},
   "outputs": [
    {
     "data": {
      "text/plain": [
       "array([[ 0.52237162, -0.37231836, -0.72101681,  0.26199559],\n",
       "       [-0.26335492, -0.92555649,  0.24203288, -0.12413481],\n",
       "       [ 0.58125401, -0.02109478,  0.14089226, -0.80115427],\n",
       "       [ 0.56561105, -0.06541577,  0.6338014 ,  0.52354627]])"
      ]
     },
     "execution_count": 68,
     "metadata": {},
     "output_type": "execute_result"
    }
   ],
   "source": [
    "#eigenvalue and eigenvector of correlation matrix\n",
    "cor_mat1 = np.corrcoef(standardX.T)\n",
    "eig_vals, eig_vecs = np.linalg.eig(cor_mat1)\n",
    "eig_vecs"
   ]
  },
  {
   "cell_type": "markdown",
   "metadata": {},
   "source": [
    "All three approaches yield the same eigenvectors and eigenvalue pairs:\n",
    "\n",
    "1. Eigendecomposition of the covariance matrix after standardizing the data.\n",
    "2. Eigendecomposition of the correlation matrix.\n",
    "3. Eigendecomposition of the correlation matrix after standardizing the data.\n",
    "\n",
    "Singular Value Decomposition\n",
    "\n",
    "While the eigendecomposition of the covariance or correlation matrix may be more intuitiuve, most PCA implementations perform a Singular Value Decomposition (SVD) to improve the computational efficiency. So, let us perform an SVD to confirm that the result are indeed the same:"
   ]
  },
  {
   "cell_type": "code",
   "execution_count": 69,
   "metadata": {},
   "outputs": [
    {
     "data": {
      "text/plain": [
       "array([[-0.52237162, -0.37231836,  0.72101681,  0.26199559],\n",
       "       [ 0.26335492, -0.92555649, -0.24203288, -0.12413481],\n",
       "       [-0.58125401, -0.02109478, -0.14089226, -0.80115427],\n",
       "       [-0.56561105, -0.06541577, -0.6338014 ,  0.52354627]])"
      ]
     },
     "execution_count": 69,
     "metadata": {},
     "output_type": "execute_result"
    }
   ],
   "source": [
    "u,s,v = np.linalg.svd(standardX.T)\n",
    "u"
   ]
  },
  {
   "cell_type": "code",
   "execution_count": 70,
   "metadata": {},
   "outputs": [],
   "source": [
    "#Create tuples of eigenpairs\n",
    "\n",
    "eigenpairs = [(eig_vals[i],eig_vecs[:,i]) for i in range(len(eig_vals))]\n",
    "eigenpairs.sort(key=lambda x: x[0], reverse=True)\n",
    "#eigenpairs\n"
   ]
  },
  {
   "cell_type": "markdown",
   "metadata": {},
   "source": [
    "After sorting the eigenpairs, the next question is “how many principal components are we going to choose for our new feature subspace?” A useful measure is the so-called “explained variance,” which can be calculated from the eigenvalues. The explained variance tells us how much information (variance) can be attributed to each of the principal components."
   ]
  },
  {
   "cell_type": "code",
   "execution_count": 71,
   "metadata": {},
   "outputs": [],
   "source": [
    "total_eigval = sum(eig_vals)\n",
    "\n",
    "var_eigval = [i/total_eigval for i in sorted(eig_vals, reverse=True)]\n",
    "cumsum_var_eigval = np.cumsum(var_eigval)\n"
   ]
  },
  {
   "cell_type": "code",
   "execution_count": 72,
   "metadata": {},
   "outputs": [
    {
     "data": {
      "image/png": "[encoded data removed]",
      "text/plain": [
       "<Figure size 432x288 with 1 Axes>"
      ]
     },
     "metadata": {},
     "output_type": "display_data"
    }
   ],
   "source": [
    "with plt.style.context('seaborn-whitegrid'):\n",
    "    plt.figure(figsize=(6, 4))\n",
    "\n",
    "    plt.bar(range(4), var_eigval, alpha=0.5, align='center',\n",
    "            label='individual explained variance')\n",
    "    plt.step(range(4), cumsum_var_eigval, where='mid',\n",
    "             label='cumulative explained variance')\n",
    "    plt.ylabel('Explained variance ratio')\n",
    "    plt.xlabel('Principal components')\n",
    "    plt.legend(loc='best')\n",
    "    plt.tight_layout()"
   ]
  },
  {
   "cell_type": "code",
   "execution_count": 73,
   "metadata": {},
   "outputs": [],
   "source": [
    "# create a matrix of top two eigenvector as it explains most of variability in data\n",
    "\n",
    "matrix_w = np.hstack((eigenpairs[0][1].reshape(4,1),\n",
    "                      eigenpairs[1][1].reshape(4,1)))\n"
   ]
  },
  {
   "cell_type": "markdown",
   "metadata": {},
   "source": [
    "In this last step we will use the 4×2-dimensional projection matrix W to transform our samples onto the new subspace "
   ]
  },
  {
   "cell_type": "code",
   "execution_count": 74,
   "metadata": {},
   "outputs": [],
   "source": [
    "Y = standardX.dot(matrix_w)"
   ]
  },
  {
   "cell_type": "code",
   "execution_count": 79,
   "metadata": {},
   "outputs": [
    {
     "data": {
      "text/plain": [
       "array([[-2.26454173e+00, -5.05703903e-01],\n",
       "       [-2.08642550e+00,  6.55404729e-01],\n",
       "       [-2.36795045e+00,  3.18477311e-01],\n",
       "       [-2.30419716e+00,  5.75367713e-01],\n",
       "       [-2.38877749e+00, -6.74767397e-01],\n",
       "       [-2.07053681e+00, -1.51854856e+00],\n",
       "       [-2.44571134e+00, -7.45626750e-02],\n",
       "       [-2.23384186e+00, -2.47613932e-01],\n",
       "       [-2.34195768e+00,  1.09514636e+00],\n",
       "       [-2.18867576e+00,  4.48629048e-01],\n",
       "       [-2.16348656e+00, -1.07059558e+00],\n",
       "       [-2.32737775e+00, -1.58587455e-01],\n",
       "       [-2.22408272e+00,  7.09118158e-01],\n",
       "       [-2.63971626e+00,  9.38281982e-01],\n",
       "       [-2.19229151e+00, -1.88997851e+00],\n",
       "       [-2.25146521e+00, -2.72237108e+00],\n",
       "       [-2.20275048e+00, -1.51375028e+00],\n",
       "       [-2.19017916e+00, -5.14304308e-01],\n",
       "       [-1.89407429e+00, -1.43111071e+00],\n",
       "       [-2.33994907e+00, -1.15803343e+00],\n",
       "       [-1.91455639e+00, -4.30465163e-01],\n",
       "       [-2.20464540e+00, -9.52457317e-01],\n",
       "       [-2.77416979e+00, -4.89517027e-01],\n",
       "       [-1.82041156e+00, -1.06750793e-01],\n",
       "       [-2.22821750e+00, -1.62186163e-01],\n",
       "       [-1.95702401e+00,  6.07892567e-01],\n",
       "       [-2.05206331e+00, -2.66014312e-01],\n",
       "       [-2.16819365e+00, -5.52016495e-01],\n",
       "       [-2.14030596e+00, -3.36640409e-01],\n",
       "       [-2.26879019e+00,  3.14878603e-01],\n",
       "       [-2.14455443e+00,  4.83942097e-01],\n",
       "       [-1.83193810e+00, -4.45266836e-01],\n",
       "       [-2.60820287e+00, -1.82847519e+00],\n",
       "       [-2.43795086e+00, -2.18539162e+00],\n",
       "       [-2.18867576e+00,  4.48629048e-01],\n",
       "       [-2.21111990e+00,  1.84337811e-01],\n",
       "       [-2.04441652e+00, -6.84956426e-01],\n",
       "       [-2.18867576e+00,  4.48629048e-01],\n",
       "       [-2.43595220e+00,  8.82169415e-01],\n",
       "       [-2.17054720e+00, -2.92726955e-01],\n",
       "       [-2.28652724e+00, -4.67991716e-01],\n",
       "       [-1.87170722e+00,  2.32769161e+00],\n",
       "       [-2.55783442e+00,  4.53816380e-01],\n",
       "       [-1.96427929e+00, -4.97391640e-01],\n",
       "       [-2.13337283e+00, -1.17143211e+00],\n",
       "       [-2.07535759e+00,  6.91917347e-01],\n",
       "       [-2.38125822e+00, -1.15063259e+00],\n",
       "       [-2.39819169e+00,  3.62390765e-01],\n",
       "       [-2.22678121e+00, -1.02548255e+00],\n",
       "       [-2.20595417e+00, -3.22378453e-02],\n",
       "       [ 1.10399365e+00, -8.63112446e-01],\n",
       "       [ 7.32481440e-01, -5.98635573e-01],\n",
       "       [ 1.24210951e+00, -6.14822450e-01],\n",
       "       [ 3.97307283e-01,  1.75816895e+00],\n",
       "       [ 1.07259395e+00,  2.11757903e-01],\n",
       "       [ 3.84458146e-01,  5.91062469e-01],\n",
       "       [ 7.48715076e-01, -7.78698611e-01],\n",
       "       [-4.97863388e-01,  1.84886877e+00],\n",
       "       [ 9.26222368e-01, -3.03308268e-02],\n",
       "       [ 4.96802558e-03,  1.02940111e+00],\n",
       "       [-1.24697461e-01,  2.65806268e+00],\n",
       "       [ 4.38730118e-01,  5.88812850e-02],\n",
       "       [ 5.51633981e-01,  1.77258156e+00],\n",
       "       [ 7.17165066e-01,  1.85434315e-01],\n",
       "       [-3.72583830e-02,  4.32795099e-01],\n",
       "       [ 8.75890536e-01, -5.09998151e-01],\n",
       "       [ 3.48006402e-01,  1.90621647e-01],\n",
       "       [ 1.53392545e-01,  7.90725456e-01],\n",
       "       [ 1.21530321e+00,  1.63335564e+00],\n",
       "       [ 1.56941176e-01,  1.30310327e+00],\n",
       "       [ 7.38256104e-01, -4.02470382e-01],\n",
       "       [ 4.72369682e-01,  4.16608222e-01],\n",
       "       [ 1.22798821e+00,  9.40914793e-01],\n",
       "       [ 6.29381045e-01,  4.16811643e-01],\n",
       "       [ 7.00472799e-01,  6.34939277e-02],\n",
       "       [ 8.73536987e-01, -2.50708611e-01],\n",
       "       [ 1.25422219e+00,  8.26200998e-02],\n",
       "       [ 1.35823985e+00, -3.28820266e-01],\n",
       "       [ 6.62126138e-01,  2.24346071e-01],\n",
       "       [-4.72815133e-02,  1.05721241e+00],\n",
       "       [ 1.21534209e-01,  1.56359238e+00],\n",
       "       [ 1.41182261e-02,  1.57339235e+00],\n",
       "       [ 2.36010837e-01,  7.75923784e-01],\n",
       "       [ 1.05669143e+00,  6.36901284e-01],\n",
       "       [ 2.21417088e-01,  2.80847693e-01],\n",
       "       [ 4.31783161e-01, -8.55136920e-01],\n",
       "       [ 1.04941336e+00, -5.22197265e-01],\n",
       "       [ 1.03587821e+00,  1.39246648e+00],\n",
       "       [ 6.70675999e-02,  2.12620735e-01],\n",
       "       [ 2.75425066e-01,  1.32981591e+00],\n",
       "       [ 2.72335066e-01,  1.11944152e+00],\n",
       "       [ 6.23170540e-01, -2.75426333e-02],\n",
       "       [ 3.30005364e-01,  9.88900732e-01],\n",
       "       [-3.73627623e-01,  2.01793227e+00],\n",
       "       [ 2.82944343e-01,  8.53950717e-01],\n",
       "       [ 8.90531103e-02,  1.74908548e-01],\n",
       "       [ 2.24356783e-01,  3.80484659e-01],\n",
       "       [ 5.73883486e-01,  1.53719974e-01],\n",
       "       [-4.57012873e-01,  1.53946451e+00],\n",
       "       [ 2.52244473e-01,  5.95860746e-01],\n",
       "       [ 1.84767259e+00, -8.71696662e-01],\n",
       "       [ 1.15318981e+00,  7.01326114e-01],\n",
       "       [ 2.20634950e+00, -5.54470105e-01],\n",
       "       [ 1.43868540e+00,  5.00105223e-02],\n",
       "       [ 1.86789070e+00, -2.91192802e-01],\n",
       "       [ 2.75419671e+00, -7.88432206e-01],\n",
       "       [ 3.58374475e-01,  1.56009458e+00],\n",
       "       [ 2.30300590e+00, -4.09516695e-01],\n",
       "       [ 2.00173530e+00,  7.23865359e-01],\n",
       "       [ 2.26755460e+00, -1.92144299e+00],\n",
       "       [ 1.36590943e+00, -6.93948040e-01],\n",
       "       [ 1.59906459e+00,  4.28248836e-01],\n",
       "       [ 1.88425185e+00, -4.14332758e-01],\n",
       "       [ 1.25308651e+00,  1.16739134e+00],\n",
       "       [ 1.46406152e+00,  4.44147569e-01],\n",
       "       [ 1.59180930e+00, -6.77035372e-01],\n",
       "       [ 1.47128019e+00, -2.53192472e-01],\n",
       "       [ 2.43737848e+00, -2.55675734e+00],\n",
       "       [ 3.30914118e+00,  2.36132010e-03],\n",
       "       [ 1.25398099e+00,  1.71758384e+00],\n",
       "       [ 2.04049626e+00, -9.07398765e-01],\n",
       "       [ 9.73915114e-01,  5.71174376e-01],\n",
       "       [ 2.89806444e+00, -3.97791359e-01],\n",
       "       [ 1.32919369e+00,  4.86760542e-01],\n",
       "       [ 1.70424071e+00, -1.01414842e+00],\n",
       "       [ 1.95772766e+00, -1.00333452e+00],\n",
       "       [ 1.17190451e+00,  3.18896617e-01],\n",
       "       [ 1.01978105e+00, -6.55429631e-02],\n",
       "       [ 1.78600886e+00,  1.93272800e-01],\n",
       "       [ 1.86477791e+00, -5.55381532e-01],\n",
       "       [ 2.43549739e+00, -2.46654468e-01],\n",
       "       [ 2.31608241e+00, -2.62618387e+00],\n",
       "       [ 1.86037143e+00,  1.84672394e-01],\n",
       "       [ 1.11127173e+00,  2.95986102e-01],\n",
       "       [ 1.19746916e+00,  8.17167742e-01],\n",
       "       [ 2.80094940e+00, -8.44748194e-01],\n",
       "       [ 1.58015525e+00, -1.07247450e+00],\n",
       "       [ 1.34704442e+00, -4.22255966e-01],\n",
       "       [ 9.23432978e-01, -1.92303705e-02],\n",
       "       [ 1.85355198e+00, -6.72422729e-01],\n",
       "       [ 2.01615720e+00, -6.10397038e-01],\n",
       "       [ 1.90311686e+00, -6.86024832e-01],\n",
       "       [ 1.15318981e+00,  7.01326114e-01],\n",
       "       [ 2.04330844e+00, -8.64684880e-01],\n",
       "       [ 2.00169097e+00, -1.04855005e+00],\n",
       "       [ 1.87052207e+00, -3.82821838e-01],\n",
       "       [ 1.55849189e+00,  9.05313601e-01],\n",
       "       [ 1.52084506e+00, -2.66794575e-01],\n",
       "       [ 1.37639119e+00, -1.01636193e+00],\n",
       "       [ 9.59298576e-01,  2.22839447e-02]])"
      ]
     },
     "execution_count": 79,
     "metadata": {},
     "output_type": "execute_result"
    }
   ],
   "source": [
    "Y"
   ]
  },
  {
   "cell_type": "code",
   "execution_count": 75,
   "metadata": {},
   "outputs": [
    {
     "data": {
      "image/png": "[encoded data removed]",
      "text/plain": [
       "<Figure size 432x288 with 1 Axes>"
      ]
     },
     "metadata": {},
     "output_type": "display_data"
    }
   ],
   "source": [
    "with plt.style.context('seaborn-whitegrid'):\n",
    "    plt.figure(figsize=(6, 4))\n",
    "    for lab, col in zip(('Iris-setosa', 'Iris-versicolor', 'Iris-virginica'),\n",
    "                        ('blue', 'red', 'green')):\n",
    "        plt.scatter(Y[y==lab, 0],\n",
    "                    Y[y==lab, 1],\n",
    "                    label=lab,\n",
    "                    c=col)\n",
    "    plt.xlabel('Principal Component 1')\n",
    "    plt.ylabel('Principal Component 2')\n",
    "    plt.legend(loc='lower center')\n",
    "    plt.tight_layout()\n",
    "    plt.show()"
   ]
  },
  {
   "cell_type": "markdown",
   "metadata": {},
   "source": [
    "### Shortcut - PCA in scikit-learn\n",
    "For educational purposes, we went a long way to apply the PCA to the Iris dataset. But luckily, there is already implementation in scikit-learn."
   ]
  },
  {
   "cell_type": "code",
   "execution_count": 92,
   "metadata": {},
   "outputs": [],
   "source": [
    "from sklearn.decomposition import PCA as pca\n",
    "Y_sklearn = pca(n_components=2, svd_solver='arpack').fit_transform(standardX)\n",
    "\n"
   ]
  },
  {
   "cell_type": "code",
   "execution_count": 93,
   "metadata": {},
   "outputs": [
    {
     "data": {
      "text/plain": [
       "array([[-2.26454173e+00,  5.05703903e-01],\n",
       "       [-2.08642550e+00, -6.55404729e-01],\n",
       "       [-2.36795045e+00, -3.18477311e-01],\n",
       "       [-2.30419716e+00, -5.75367713e-01],\n",
       "       [-2.38877749e+00,  6.74767397e-01],\n",
       "       [-2.07053681e+00,  1.51854856e+00],\n",
       "       [-2.44571134e+00,  7.45626750e-02],\n",
       "       [-2.23384186e+00,  2.47613932e-01],\n",
       "       [-2.34195768e+00, -1.09514636e+00],\n",
       "       [-2.18867576e+00, -4.48629048e-01],\n",
       "       [-2.16348656e+00,  1.07059558e+00],\n",
       "       [-2.32737775e+00,  1.58587455e-01],\n",
       "       [-2.22408272e+00, -7.09118158e-01],\n",
       "       [-2.63971626e+00, -9.38281982e-01],\n",
       "       [-2.19229151e+00,  1.88997851e+00],\n",
       "       [-2.25146521e+00,  2.72237108e+00],\n",
       "       [-2.20275048e+00,  1.51375028e+00],\n",
       "       [-2.19017916e+00,  5.14304308e-01],\n",
       "       [-1.89407429e+00,  1.43111071e+00],\n",
       "       [-2.33994907e+00,  1.15803343e+00],\n",
       "       [-1.91455639e+00,  4.30465163e-01],\n",
       "       [-2.20464540e+00,  9.52457317e-01],\n",
       "       [-2.77416979e+00,  4.89517027e-01],\n",
       "       [-1.82041156e+00,  1.06750793e-01],\n",
       "       [-2.22821750e+00,  1.62186163e-01],\n",
       "       [-1.95702401e+00, -6.07892567e-01],\n",
       "       [-2.05206331e+00,  2.66014312e-01],\n",
       "       [-2.16819365e+00,  5.52016495e-01],\n",
       "       [-2.14030596e+00,  3.36640409e-01],\n",
       "       [-2.26879019e+00, -3.14878603e-01],\n",
       "       [-2.14455443e+00, -4.83942097e-01],\n",
       "       [-1.83193810e+00,  4.45266836e-01],\n",
       "       [-2.60820287e+00,  1.82847519e+00],\n",
       "       [-2.43795086e+00,  2.18539162e+00],\n",
       "       [-2.18867576e+00, -4.48629048e-01],\n",
       "       [-2.21111990e+00, -1.84337811e-01],\n",
       "       [-2.04441652e+00,  6.84956426e-01],\n",
       "       [-2.18867576e+00, -4.48629048e-01],\n",
       "       [-2.43595220e+00, -8.82169415e-01],\n",
       "       [-2.17054720e+00,  2.92726955e-01],\n",
       "       [-2.28652724e+00,  4.67991716e-01],\n",
       "       [-1.87170722e+00, -2.32769161e+00],\n",
       "       [-2.55783442e+00, -4.53816380e-01],\n",
       "       [-1.96427929e+00,  4.97391640e-01],\n",
       "       [-2.13337283e+00,  1.17143211e+00],\n",
       "       [-2.07535759e+00, -6.91917347e-01],\n",
       "       [-2.38125822e+00,  1.15063259e+00],\n",
       "       [-2.39819169e+00, -3.62390765e-01],\n",
       "       [-2.22678121e+00,  1.02548255e+00],\n",
       "       [-2.20595417e+00,  3.22378453e-02],\n",
       "       [ 1.10399365e+00,  8.63112446e-01],\n",
       "       [ 7.32481440e-01,  5.98635573e-01],\n",
       "       [ 1.24210951e+00,  6.14822450e-01],\n",
       "       [ 3.97307283e-01, -1.75816895e+00],\n",
       "       [ 1.07259395e+00, -2.11757903e-01],\n",
       "       [ 3.84458146e-01, -5.91062469e-01],\n",
       "       [ 7.48715076e-01,  7.78698611e-01],\n",
       "       [-4.97863388e-01, -1.84886877e+00],\n",
       "       [ 9.26222368e-01,  3.03308268e-02],\n",
       "       [ 4.96802558e-03, -1.02940111e+00],\n",
       "       [-1.24697461e-01, -2.65806268e+00],\n",
       "       [ 4.38730118e-01, -5.88812850e-02],\n",
       "       [ 5.51633981e-01, -1.77258156e+00],\n",
       "       [ 7.17165066e-01, -1.85434315e-01],\n",
       "       [-3.72583830e-02, -4.32795099e-01],\n",
       "       [ 8.75890536e-01,  5.09998151e-01],\n",
       "       [ 3.48006402e-01, -1.90621647e-01],\n",
       "       [ 1.53392545e-01, -7.90725456e-01],\n",
       "       [ 1.21530321e+00, -1.63335564e+00],\n",
       "       [ 1.56941176e-01, -1.30310327e+00],\n",
       "       [ 7.38256104e-01,  4.02470382e-01],\n",
       "       [ 4.72369682e-01, -4.16608222e-01],\n",
       "       [ 1.22798821e+00, -9.40914793e-01],\n",
       "       [ 6.29381045e-01, -4.16811643e-01],\n",
       "       [ 7.00472799e-01, -6.34939277e-02],\n",
       "       [ 8.73536987e-01,  2.50708611e-01],\n",
       "       [ 1.25422219e+00, -8.26200998e-02],\n",
       "       [ 1.35823985e+00,  3.28820266e-01],\n",
       "       [ 6.62126138e-01, -2.24346071e-01],\n",
       "       [-4.72815133e-02, -1.05721241e+00],\n",
       "       [ 1.21534209e-01, -1.56359238e+00],\n",
       "       [ 1.41182261e-02, -1.57339235e+00],\n",
       "       [ 2.36010837e-01, -7.75923784e-01],\n",
       "       [ 1.05669143e+00, -6.36901284e-01],\n",
       "       [ 2.21417088e-01, -2.80847693e-01],\n",
       "       [ 4.31783161e-01,  8.55136920e-01],\n",
       "       [ 1.04941336e+00,  5.22197265e-01],\n",
       "       [ 1.03587821e+00, -1.39246648e+00],\n",
       "       [ 6.70675999e-02, -2.12620735e-01],\n",
       "       [ 2.75425066e-01, -1.32981591e+00],\n",
       "       [ 2.72335066e-01, -1.11944152e+00],\n",
       "       [ 6.23170540e-01,  2.75426333e-02],\n",
       "       [ 3.30005364e-01, -9.88900732e-01],\n",
       "       [-3.73627623e-01, -2.01793227e+00],\n",
       "       [ 2.82944343e-01, -8.53950717e-01],\n",
       "       [ 8.90531103e-02, -1.74908548e-01],\n",
       "       [ 2.24356783e-01, -3.80484659e-01],\n",
       "       [ 5.73883486e-01, -1.53719974e-01],\n",
       "       [-4.57012873e-01, -1.53946451e+00],\n",
       "       [ 2.52244473e-01, -5.95860746e-01],\n",
       "       [ 1.84767259e+00,  8.71696662e-01],\n",
       "       [ 1.15318981e+00, -7.01326114e-01],\n",
       "       [ 2.20634950e+00,  5.54470105e-01],\n",
       "       [ 1.43868540e+00, -5.00105223e-02],\n",
       "       [ 1.86789070e+00,  2.91192802e-01],\n",
       "       [ 2.75419671e+00,  7.88432206e-01],\n",
       "       [ 3.58374475e-01, -1.56009458e+00],\n",
       "       [ 2.30300590e+00,  4.09516695e-01],\n",
       "       [ 2.00173530e+00, -7.23865359e-01],\n",
       "       [ 2.26755460e+00,  1.92144299e+00],\n",
       "       [ 1.36590943e+00,  6.93948040e-01],\n",
       "       [ 1.59906459e+00, -4.28248836e-01],\n",
       "       [ 1.88425185e+00,  4.14332758e-01],\n",
       "       [ 1.25308651e+00, -1.16739134e+00],\n",
       "       [ 1.46406152e+00, -4.44147569e-01],\n",
       "       [ 1.59180930e+00,  6.77035372e-01],\n",
       "       [ 1.47128019e+00,  2.53192472e-01],\n",
       "       [ 2.43737848e+00,  2.55675734e+00],\n",
       "       [ 3.30914118e+00, -2.36132010e-03],\n",
       "       [ 1.25398099e+00, -1.71758384e+00],\n",
       "       [ 2.04049626e+00,  9.07398765e-01],\n",
       "       [ 9.73915114e-01, -5.71174376e-01],\n",
       "       [ 2.89806444e+00,  3.97791359e-01],\n",
       "       [ 1.32919369e+00, -4.86760542e-01],\n",
       "       [ 1.70424071e+00,  1.01414842e+00],\n",
       "       [ 1.95772766e+00,  1.00333452e+00],\n",
       "       [ 1.17190451e+00, -3.18896617e-01],\n",
       "       [ 1.01978105e+00,  6.55429631e-02],\n",
       "       [ 1.78600886e+00, -1.93272800e-01],\n",
       "       [ 1.86477791e+00,  5.55381532e-01],\n",
       "       [ 2.43549739e+00,  2.46654468e-01],\n",
       "       [ 2.31608241e+00,  2.62618387e+00],\n",
       "       [ 1.86037143e+00, -1.84672394e-01],\n",
       "       [ 1.11127173e+00, -2.95986102e-01],\n",
       "       [ 1.19746916e+00, -8.17167742e-01],\n",
       "       [ 2.80094940e+00,  8.44748194e-01],\n",
       "       [ 1.58015525e+00,  1.07247450e+00],\n",
       "       [ 1.34704442e+00,  4.22255966e-01],\n",
       "       [ 9.23432978e-01,  1.92303705e-02],\n",
       "       [ 1.85355198e+00,  6.72422729e-01],\n",
       "       [ 2.01615720e+00,  6.10397038e-01],\n",
       "       [ 1.90311686e+00,  6.86024832e-01],\n",
       "       [ 1.15318981e+00, -7.01326114e-01],\n",
       "       [ 2.04330844e+00,  8.64684880e-01],\n",
       "       [ 2.00169097e+00,  1.04855005e+00],\n",
       "       [ 1.87052207e+00,  3.82821838e-01],\n",
       "       [ 1.55849189e+00, -9.05313601e-01],\n",
       "       [ 1.52084506e+00,  2.66794575e-01],\n",
       "       [ 1.37639119e+00,  1.01636193e+00],\n",
       "       [ 9.59298576e-01, -2.22839447e-02]])"
      ]
     },
     "execution_count": 93,
     "metadata": {},
     "output_type": "execute_result"
    }
   ],
   "source": [
    "Y_sklearn"
   ]
  },
  {
   "cell_type": "code",
   "execution_count": 91,
   "metadata": {},
   "outputs": [
    {
     "data": {
      "image/png": "[encoded data removed]",
      "text/plain": [
       "<Figure size 432x288 with 1 Axes>"
      ]
     },
     "metadata": {},
     "output_type": "display_data"
    }
   ],
   "source": [
    "with plt.style.context('seaborn-whitegrid'):\n",
    "    plt.figure(figsize=(6, 4))\n",
    "    for lab, col in zip(('Iris-setosa', 'Iris-versicolor', 'Iris-virginica'),\n",
    "                        ('blue', 'red', 'green')):\n",
    "        plt.scatter(Y_sklearn[y==lab, 0],\n",
    "                    Y_sklearn[y==lab, 1],\n",
    "                    label=lab,\n",
    "                    c=col)\n",
    "    plt.xlabel('Principal Component 1')\n",
    "    plt.ylabel('Principal Component 2')\n",
    "    plt.legend(loc='lower center')\n",
    "    plt.tight_layout()\n",
    "    plt.show()\n"
   ]
  },
  {
   "cell_type": "code",
   "execution_count": 88,
   "metadata": {},
   "outputs": [],
   "source": [
    "#Notice sklearn pca has flipped the sign "
   ]
  },
  {
   "cell_type": "code",
   "execution_count": null,
   "metadata": {},
   "outputs": [],
   "source": []
  }
 ],
 "metadata": {
  "kernelspec": {
   "display_name": "Python 3",
   "language": "python",
   "name": "python3"
  },
  "language_info": {
   "codemirror_mode": {
    "name": "ipython",
    "version": 3
   },
   "file_extension": ".py",
   "mimetype": "text/x-python",
   "name": "python",
   "nbconvert_exporter": "python",
   "pygments_lexer": "ipython3",
   "version": "3.7.3"
  }
 },
 "nbformat": 4,
 "nbformat_minor": 2
}
